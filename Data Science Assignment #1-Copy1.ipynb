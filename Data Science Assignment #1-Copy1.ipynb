{
 "cells": [
  {
   "cell_type": "code",
   "execution_count": 4,
   "id": "5dfb3b9c",
   "metadata": {
    "scrolled": true
   },
   "outputs": [
    {
     "name": "stdout",
     "output_type": "stream",
     "text": [
      "1\n",
      "2\n",
      "3\n",
      "4\n",
      "5\n",
      "6\n",
      "7\n",
      "8\n",
      "9\n",
      "10\n",
      "2\n",
      "4\n",
      "6\n",
      "8\n",
      "10\n",
      "12\n",
      "14\n",
      "16\n",
      "18\n",
      "20\n",
      "3\n",
      "6\n",
      "9\n",
      "12\n",
      "15\n",
      "18\n",
      "21\n",
      "24\n",
      "27\n",
      "30\n",
      "What is your name: Cris\n",
      "Hello Cris how are you doing today?\n",
      "What is your name: Mat\n",
      "Hello Mat how are you doing today?\n",
      "What is your name: Johnny\n",
      "Hello Johnny how are you doing today?\n"
     ]
    }
   ],
   "source": [
    "def timesTable(num1):\n",
    "    num2 = 1\n",
    "    num3 = 11\n",
    "    for x in range(num2,num3):\n",
    "        print(x*num1)\n",
    "                    \n",
    "timesTable(1)\n",
    "timesTable(2)\n",
    "timesTable(3)\n",
    "\n",
    "\n",
    "def greet():\n",
    "    name = input(\"What is your name: \")\n",
    "    output = \"Hello \"+ name + \" how are you doing today?\"\n",
    "    return output\n",
    "\n",
    "print(greet())\n",
    "print(greet())\n",
    "print(greet())"
   ]
  }
 ],
 "metadata": {
  "kernelspec": {
   "display_name": "Python 3 (ipykernel)",
   "language": "python",
   "name": "python3"
  },
  "language_info": {
   "codemirror_mode": {
    "name": "ipython",
    "version": 3
   },
   "file_extension": ".py",
   "mimetype": "text/x-python",
   "name": "python",
   "nbconvert_exporter": "python",
   "pygments_lexer": "ipython3",
   "version": "3.9.12"
  }
 },
 "nbformat": 4,
 "nbformat_minor": 5
}
